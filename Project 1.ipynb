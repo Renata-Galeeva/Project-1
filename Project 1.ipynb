{
 "cells": [
  {
   "cell_type": "markdown",
   "metadata": {},
   "source": [
    "### Задание 1"
   ]
  },
  {
   "cell_type": "code",
   "execution_count": 1,
   "metadata": {},
   "outputs": [],
   "source": [
    "import numpy as np\n",
    "import pandas as pd\n",
    "import scipy.stats as st\n",
    "import pingouin as pg\n",
    "from scipy.stats import chi2_contingency, chi2 \n",
    "\n",
    "import seaborn as sns\n",
    "import plotly.express as px\n",
    "import matplotlib.pyplot as plt\n",
    "\n",
    "from operator import attrgetter\n",
    "from matplotlib import colors as mcolors"
   ]
  },
  {
   "cell_type": "code",
   "execution_count": 2,
   "metadata": {},
   "outputs": [
    {
     "name": "stderr",
     "output_type": "stream",
     "text": [
      "/opt/tljh/user/lib/python3.7/site-packages/outdated/utils.py:18: OutdatedCacheFailedWarning: Failed to use cache while checking for outdated package.\n",
      "Set the environment variable OUTDATED_RAISE_EXCEPTION=1 for a full traceback.\n",
      "Set the environment variable OUTDATED_IGNORE=1 to disable these warnings.\n",
      "  **kwargs\n",
      "/opt/tljh/user/lib/python3.7/site-packages/outdated/utils.py:18: OutdatedPackageWarning: The package outdated is out of date. Your version is 0.2.1, the latest is 0.2.2.\n",
      "Set the environment variable OUTDATED_IGNORE=1 to disable these warnings.\n",
      "  **kwargs\n"
     ]
    },
    {
     "data": {
      "text/html": [
       "<div>\n",
       "<style scoped>\n",
       "    .dataframe tbody tr th:only-of-type {\n",
       "        vertical-align: middle;\n",
       "    }\n",
       "\n",
       "    .dataframe tbody tr th {\n",
       "        vertical-align: top;\n",
       "    }\n",
       "\n",
       "    .dataframe thead th {\n",
       "        text-align: right;\n",
       "    }\n",
       "</style>\n",
       "<table border=\"1\" class=\"dataframe\">\n",
       "  <thead>\n",
       "    <tr style=\"text-align: right;\">\n",
       "      <th></th>\n",
       "      <th>reg_ts</th>\n",
       "      <th>uid</th>\n",
       "    </tr>\n",
       "  </thead>\n",
       "  <tbody>\n",
       "    <tr>\n",
       "      <th>0</th>\n",
       "      <td>911382223</td>\n",
       "      <td>1</td>\n",
       "    </tr>\n",
       "    <tr>\n",
       "      <th>1</th>\n",
       "      <td>932683089</td>\n",
       "      <td>2</td>\n",
       "    </tr>\n",
       "    <tr>\n",
       "      <th>2</th>\n",
       "      <td>947802447</td>\n",
       "      <td>3</td>\n",
       "    </tr>\n",
       "    <tr>\n",
       "      <th>3</th>\n",
       "      <td>959523541</td>\n",
       "      <td>4</td>\n",
       "    </tr>\n",
       "    <tr>\n",
       "      <th>4</th>\n",
       "      <td>969103313</td>\n",
       "      <td>5</td>\n",
       "    </tr>\n",
       "    <tr>\n",
       "      <th>...</th>\n",
       "      <td>...</td>\n",
       "      <td>...</td>\n",
       "    </tr>\n",
       "    <tr>\n",
       "      <th>999995</th>\n",
       "      <td>1600874034</td>\n",
       "      <td>1110618</td>\n",
       "    </tr>\n",
       "    <tr>\n",
       "      <th>999996</th>\n",
       "      <td>1600874086</td>\n",
       "      <td>1110619</td>\n",
       "    </tr>\n",
       "    <tr>\n",
       "      <th>999997</th>\n",
       "      <td>1600874139</td>\n",
       "      <td>1110620</td>\n",
       "    </tr>\n",
       "    <tr>\n",
       "      <th>999998</th>\n",
       "      <td>1600874191</td>\n",
       "      <td>1110621</td>\n",
       "    </tr>\n",
       "    <tr>\n",
       "      <th>999999</th>\n",
       "      <td>1600874244</td>\n",
       "      <td>1110622</td>\n",
       "    </tr>\n",
       "  </tbody>\n",
       "</table>\n",
       "<p>1000000 rows × 2 columns</p>\n",
       "</div>"
      ],
      "text/plain": [
       "            reg_ts      uid\n",
       "0        911382223        1\n",
       "1        932683089        2\n",
       "2        947802447        3\n",
       "3        959523541        4\n",
       "4        969103313        5\n",
       "...            ...      ...\n",
       "999995  1600874034  1110618\n",
       "999996  1600874086  1110619\n",
       "999997  1600874139  1110620\n",
       "999998  1600874191  1110621\n",
       "999999  1600874244  1110622\n",
       "\n",
       "[1000000 rows x 2 columns]"
      ]
     },
     "execution_count": 2,
     "metadata": {},
     "output_type": "execute_result"
    }
   ],
   "source": [
    "#Открываем первый файл\n",
    "df1 = pd.read_csv('~/shared/problem1-reg_data.csv', sep=';')\n",
    "df1"
   ]
  },
  {
   "cell_type": "code",
   "execution_count": 3,
   "metadata": {},
   "outputs": [
    {
     "name": "stderr",
     "output_type": "stream",
     "text": [
      "/opt/tljh/user/lib/python3.7/site-packages/outdated/utils.py:18: OutdatedCacheFailedWarning: Failed to use cache while checking for outdated package.\n",
      "Set the environment variable OUTDATED_RAISE_EXCEPTION=1 for a full traceback.\n",
      "Set the environment variable OUTDATED_IGNORE=1 to disable these warnings.\n",
      "  **kwargs\n",
      "/opt/tljh/user/lib/python3.7/site-packages/outdated/utils.py:18: OutdatedPackageWarning: The package pingouin is out of date. Your version is 0.4.0, the latest is 0.5.5.\n",
      "Set the environment variable OUTDATED_IGNORE=1 to disable these warnings.\n",
      "  **kwargs\n"
     ]
    },
    {
     "data": {
      "text/html": [
       "<div>\n",
       "<style scoped>\n",
       "    .dataframe tbody tr th:only-of-type {\n",
       "        vertical-align: middle;\n",
       "    }\n",
       "\n",
       "    .dataframe tbody tr th {\n",
       "        vertical-align: top;\n",
       "    }\n",
       "\n",
       "    .dataframe thead th {\n",
       "        text-align: right;\n",
       "    }\n",
       "</style>\n",
       "<table border=\"1\" class=\"dataframe\">\n",
       "  <thead>\n",
       "    <tr style=\"text-align: right;\">\n",
       "      <th></th>\n",
       "      <th>auth_ts</th>\n",
       "      <th>uid</th>\n",
       "    </tr>\n",
       "  </thead>\n",
       "  <tbody>\n",
       "    <tr>\n",
       "      <th>0</th>\n",
       "      <td>911382223</td>\n",
       "      <td>1</td>\n",
       "    </tr>\n",
       "    <tr>\n",
       "      <th>1</th>\n",
       "      <td>932683089</td>\n",
       "      <td>2</td>\n",
       "    </tr>\n",
       "    <tr>\n",
       "      <th>2</th>\n",
       "      <td>932921206</td>\n",
       "      <td>2</td>\n",
       "    </tr>\n",
       "    <tr>\n",
       "      <th>3</th>\n",
       "      <td>933393015</td>\n",
       "      <td>2</td>\n",
       "    </tr>\n",
       "    <tr>\n",
       "      <th>4</th>\n",
       "      <td>933875379</td>\n",
       "      <td>2</td>\n",
       "    </tr>\n",
       "    <tr>\n",
       "      <th>...</th>\n",
       "      <td>...</td>\n",
       "      <td>...</td>\n",
       "    </tr>\n",
       "    <tr>\n",
       "      <th>9601008</th>\n",
       "      <td>1600874034</td>\n",
       "      <td>1110618</td>\n",
       "    </tr>\n",
       "    <tr>\n",
       "      <th>9601009</th>\n",
       "      <td>1600874086</td>\n",
       "      <td>1110619</td>\n",
       "    </tr>\n",
       "    <tr>\n",
       "      <th>9601010</th>\n",
       "      <td>1600874139</td>\n",
       "      <td>1110620</td>\n",
       "    </tr>\n",
       "    <tr>\n",
       "      <th>9601011</th>\n",
       "      <td>1600874191</td>\n",
       "      <td>1110621</td>\n",
       "    </tr>\n",
       "    <tr>\n",
       "      <th>9601012</th>\n",
       "      <td>1600874244</td>\n",
       "      <td>1110622</td>\n",
       "    </tr>\n",
       "  </tbody>\n",
       "</table>\n",
       "<p>9601013 rows × 2 columns</p>\n",
       "</div>"
      ],
      "text/plain": [
       "            auth_ts      uid\n",
       "0         911382223        1\n",
       "1         932683089        2\n",
       "2         932921206        2\n",
       "3         933393015        2\n",
       "4         933875379        2\n",
       "...             ...      ...\n",
       "9601008  1600874034  1110618\n",
       "9601009  1600874086  1110619\n",
       "9601010  1600874139  1110620\n",
       "9601011  1600874191  1110621\n",
       "9601012  1600874244  1110622\n",
       "\n",
       "[9601013 rows x 2 columns]"
      ]
     },
     "execution_count": 3,
     "metadata": {},
     "output_type": "execute_result"
    }
   ],
   "source": [
    "#Открываем второй файл\n",
    "df2 = pd.read_csv('~/shared/problem1-auth_data.csv', sep=';')\n",
    "df2"
   ]
  },
  {
   "cell_type": "code",
   "execution_count": 4,
   "metadata": {},
   "outputs": [
    {
     "name": "stdout",
     "output_type": "stream",
     "text": [
      "<class 'pandas.core.frame.DataFrame'>\n",
      "Int64Index: 9601013 entries, 0 to 9601012\n",
      "Data columns (total 3 columns):\n",
      " #   Column   Dtype\n",
      "---  ------   -----\n",
      " 0   auth_ts  int64\n",
      " 1   uid      int64\n",
      " 2   reg_ts   int64\n",
      "dtypes: int64(3)\n",
      "memory usage: 293.0 MB\n"
     ]
    }
   ],
   "source": [
    "#Соединим все таблицы в одну\n",
    "df = df2.merge(df1, how='left', on='uid')\n",
    "df.info()"
   ]
  },
  {
   "cell_type": "code",
   "execution_count": 5,
   "metadata": {},
   "outputs": [],
   "source": [
    "#Переводим время регистрации и время захода пользователей в игру в формат datetime64 \n",
    "df['auth_ts'] = pd.to_datetime(df['auth_ts'], unit='s')\n",
    "df['reg_ts'] = pd.to_datetime(df['reg_ts'], unit='s')\n"
   ]
  },
  {
   "cell_type": "code",
   "execution_count": null,
   "metadata": {},
   "outputs": [],
   "source": [
    "#Извлекаем день из времени регистрации и времени захода пользователей в игру\n",
    "df ['reg_date'] = df['reg_ts'].dt.to_period('D')\n",
    "df ['auth_date'] = df['auth_ts'].dt.to_period('D')\n"
   ]
  },
  {
   "cell_type": "code",
   "execution_count": null,
   "metadata": {},
   "outputs": [],
   "source": [
    "#Создаем отдельную колонку с количеством дней от времени регистрации\n",
    "df['number_days'] = ((df.auth_date - df.reg_date)/ np.timedelta64(1, 'D'))\n"
   ]
  },
  {
   "cell_type": "code",
   "execution_count": null,
   "metadata": {},
   "outputs": [],
   "source": [
    "#Агрегируем данные по когортам и рассчитанному количеству дней от времени регистрации\n",
    "df_cohort = df.groupby(['reg_date', 'number_days']).agg({'uid':'nunique'}).reset_index()\n"
   ]
  },
  {
   "cell_type": "code",
   "execution_count": null,
   "metadata": {},
   "outputs": [],
   "source": [
    "#Создаем сводную таблицу для когортного анализа \n",
    "cohort_pivot = df_cohort.pivot_table(index='reg_date', columns = 'number_days', values = 'uid')\n"
   ]
  },
  {
   "cell_type": "code",
   "execution_count": null,
   "metadata": {},
   "outputs": [],
   "source": [
    "#Рассчитываем размеры когорт (первый столбец сводной таблицы)\n",
    "cohort_size = cohort_pivot.iloc[:,0]\n"
   ]
  },
  {
   "cell_type": "code",
   "execution_count": null,
   "metadata": {},
   "outputs": [],
   "source": [
    "#Вычисляем коэффициенты удержания, деля на размер когорты\n",
    "retention_matrix = cohort_pivot.divide(cohort_size, axis =0)\n",
    "retention_matrix"
   ]
  },
  {
   "cell_type": "code",
   "execution_count": null,
   "metadata": {},
   "outputs": [],
   "source": [
    "with sns.axes_style(\"white\"):\n",
    "    fig, ax=plt.subplots(1,2, figsize=(16,12),sharey=True, gridspec_kw={'width_ratios':[1,11]})\n",
    "    #Тепловая карта для коээфициентов удержания\n",
    "    sns.heatmap(retention_matrix,\n",
    "               mask=retention_matrix.isnull(),\n",
    "               annot=True,\n",
    "               fmt='.0%',\n",
    "               cmap='RdYlGn',\n",
    "               ax=ax[1])\n",
    "    ax[1].set_title('Daily Retention', fontsize=16)\n",
    "    ax[1].set(xlabel='Количество дней после регистрации ', ylabel='Дата регистрации')\n",
    "    #Тепловая карта для размеров когорт\n",
    "    cohort_size_df = pd.DataFrame(cohort_size).rename(columns={0:'cohort_size'})\n",
    "    white_cmap=mcolors.ListedColormap(['white'])\n",
    "    sns.heatmap(cohort_size_df,\n",
    "               annot=True,\n",
    "               cbar= False,\n",
    "               fmt='g',\n",
    "               cmap=white_cmap,\n",
    "               ax=ax[0])\n",
    "    fig.tight_layout()\n",
    "    plt.show()"
   ]
  },
  {
   "cell_type": "code",
   "execution_count": null,
   "metadata": {},
   "outputs": [],
   "source": [
    "#Создаем функцию\n",
    "def retention(df1, df2, Beginning, End):\n",
    "    '''Функция проводит когортный анализ, визуализирует его с помощью тепловой карты и рассчитывает retention игроков (по дням от даты регистрации игрока) на любом срезе времени'''\n",
    "    df = df2.merge(df1, how='left', on='uid')\n",
    "    Beginning = pd.to_datetime(Beginning, unit='s').dt.to_period('D')\n",
    "    End = pd.to_datetime(End, unit='s').dt.to_period('D')\n",
    "    df ['reg_date'] = df['reg_ts'].dt.to_period('D')\n",
    "    df ['auth_date'] = df['auth_ts'].dt.to_period('D')\n",
    "    #Добавим условие, чтобы мы могли использовать функцию на части данных \n",
    "    df = df.query('reg_ts >= Beginning and auth_ts <= End')\n",
    "    df['number_days'] = ((df.auth_date - df.reg_date)/ np.timedelta64(1, 'D'))\n",
    "    df_cohort = df.groupby(['reg_date', 'number_days']).agg({'uid':'nunique'}).reset_index()\\\n",
    "    .pivot_table(index='reg_date', columns = 'number_days', values = 'uid')\n",
    "    cohort_size = cohort_pivot.iloc[:,0]\n",
    "    retention_matrix = cohort_pivot.divide(cohort_size, axis =0)\n",
    "    with sns.axes_style(\"white\"):\n",
    "        fig, ax=plt.subplots(1,2, figsize=(16,12),sharey=True, gridspec_kw={'width_ratios':[1,11]})\n",
    "    #Тепловая карта для коээфициентов удержания\n",
    "        sns.heatmap(retention_matrix,\n",
    "               mask=retention_matrix.isnull(),\n",
    "               annot=True,\n",
    "               fmt='.0%',\n",
    "               cmap='RdYlGn',\n",
    "               ax=ax[1])\n",
    "        ax[1].set_title('Daily Retention', fontsize=16)\n",
    "        ax[1].set(xlabel='Количество дней после регистрации ', ylabel='Дата регистрации')\n",
    "    #Тепловая карта для размеров когорт\n",
    "        cohort_size_df = pd.DataFrame(cohort_size).rename(columns={0:'cohort_size'})\n",
    "        white_cmap=mcolors.ListedColormap(['white'])\n",
    "        sns.heatmap(cohort_size_df,\n",
    "               annot=True,\n",
    "               cbar= False,\n",
    "               fmt='g',\n",
    "               cmap=white_cmap,\n",
    "               ax=ax[0])\n",
    "        fig.tight_layout()\n",
    "        plt.show()\n",
    "    return sns.axes_style(\"white\")"
   ]
  },
  {
   "cell_type": "markdown",
   "metadata": {},
   "source": [
    "# Задание 2"
   ]
  },
  {
   "cell_type": "code",
   "execution_count": null,
   "metadata": {},
   "outputs": [],
   "source": [
    "#Открываем файл \n",
    "df = pd.read_csv('Проект_1_Задание_2.csv', sep=';')\n",
    "df"
   ]
  },
  {
   "cell_type": "code",
   "execution_count": null,
   "metadata": {},
   "outputs": [],
   "source": [
    "df.info()"
   ]
  },
  {
   "cell_type": "code",
   "execution_count": null,
   "metadata": {},
   "outputs": [],
   "source": [
    "df.nunique()"
   ]
  },
  {
   "cell_type": "code",
   "execution_count": null,
   "metadata": {},
   "outputs": [],
   "source": [
    "df.describe()"
   ]
  },
  {
   "cell_type": "code",
   "execution_count": null,
   "metadata": {},
   "outputs": [],
   "source": [
    "#Высчитываем количество платящих пользователей для каждой группы\n",
    "paying_users = df.query('revenue!=0').groupby(['testgroup']).agg(paying_users =('user_id','count'))\n",
    "paying_users"
   ]
  },
  {
   "cell_type": "markdown",
   "metadata": {},
   "source": [
    "Создаем отдельную таблицу с показателями отдельно для каждой группы. Рассчитываем:\n",
    "\n",
    "* Средний чек (ARPU) \n",
    "* Количество пользователей (user_id) \n",
    "* Количество платящих пользователей (paying_users) \n",
    "* Доход (revenue)\n",
    "* Средний чек по платящему клиенту (ARPPU)\n",
    "* Конверсия в платящих пользователей (CR)"
   ]
  },
  {
   "cell_type": "code",
   "execution_count": null,
   "metadata": {},
   "outputs": [],
   "source": [
    "value = df.groupby(['testgroup']).agg({'revenue': 'sum', 'user_id':'count'}).reset_index()\n",
    "value ['ARPU'] = value['revenue']/value['user_id']\n",
    "value ['ARPU'] = value ['ARPU'].round(2)\n",
    "value = value.merge(paying_users, on='testgroup', how='right')\n",
    "value ['ARPPU'] = value['revenue']/value['paying_users']\n",
    "value ['ARPPU'] = value ['ARPPU'].round(2)\n",
    "value ['CR'] = (value['paying_users']/value['user_id'])*100\n",
    "value"
   ]
  },
  {
   "cell_type": "markdown",
   "metadata": {},
   "source": [
    "По условию: в контрольной группе 1928 игроков из 202103 оказались платящими, а в тестовой – 1805 из 202667.\n",
    "\n",
    "Значит, а - контрольная группа, b - тестовая группа.\n",
    "\n",
    "Также видим, что показатели ARPPU и ARPU и доход больше в тестовой группе, но при этом конверсия и количество платящих пользователей больше в контрольной группе."
   ]
  },
  {
   "cell_type": "code",
   "execution_count": null,
   "metadata": {},
   "outputs": [],
   "source": [
    "#Создаем для каждой группы отдельную таблицу для удобства\n",
    "df_a = df.query('testgroup==\"a\"')\n",
    "df_b = df.query('testgroup==\"b\"')"
   ]
  },
  {
   "cell_type": "markdown",
   "metadata": {},
   "source": [
    "##### Проверим гипотезу о взаимосвязи метрики ARPU между тестовой и контрольной группой. \n",
    "\n",
    "𝐻0 : ARPU в группах равны\n",
    "\n",
    "𝐻1 : ARPU в группах не равны\n",
    "\n",
    "Для этого проверим является ли распределение переменной ARPU нормальной."
   ]
  },
  {
   "cell_type": "code",
   "execution_count": null,
   "metadata": {},
   "outputs": [],
   "source": [
    "# Проверим нормальность распределения по Шапиро\n",
    "pg.normality(data=df, dv=\"ARPU\", group=\"testgroup\")"
   ]
  },
  {
   "cell_type": "code",
   "execution_count": null,
   "metadata": {},
   "outputs": [],
   "source": [
    "# по альтернативному тесту\n",
    "pg.normality(data=df, dv=\"ARPU\", group=\"testgroup\", method=\"normaltest\")"
   ]
  },
  {
   "cell_type": "markdown",
   "metadata": {},
   "source": [
    "Так как распределение не является нормальным, но при этом выборка очень большая для проверки гипотезы можно воспользоваться t-критерием с поправкой Уэлча."
   ]
  },
  {
   "cell_type": "code",
   "execution_count": null,
   "metadata": {},
   "outputs": [],
   "source": [
    "st.ttest_ind(df_a.revenue, df_b.revenue, equal_var=False)"
   ]
  },
  {
   "cell_type": "markdown",
   "metadata": {},
   "source": [
    "Так как p-value > 0.05, то ARPU в группах равны."
   ]
  },
  {
   "cell_type": "markdown",
   "metadata": {},
   "source": [
    "##### Проверим гипотезу о взаимосвязи конверсии в платящих пользователей (CR) между тестовой и контрольной группой. \n",
    "Проверка на нормальность не требуется, т.к. проверяются категориальные переменные.\n",
    "\n",
    "Так как переменная категориальная воспользуемся методом Хи-квадрат.\n",
    "\n",
    "𝐻0 : CR в группах равны\n",
    "\n",
    "𝐻1 : CR в группах не равны"
   ]
  },
  {
   "cell_type": "code",
   "execution_count": null,
   "metadata": {},
   "outputs": [],
   "source": [
    "#Создаем колонку, в которой показано совершил ли пользователь платеж \n",
    "df['Payment'] = df.revenue.apply(lambda x: x > 0)"
   ]
  },
  {
   "cell_type": "code",
   "execution_count": null,
   "metadata": {},
   "outputs": [],
   "source": [
    "stat, p, dof, expected = chi2_contingency(pd.crosstab(df.Payment, df.testgroup))"
   ]
  },
  {
   "cell_type": "code",
   "execution_count": null,
   "metadata": {},
   "outputs": [],
   "source": [
    "stat, p"
   ]
  },
  {
   "cell_type": "code",
   "execution_count": null,
   "metadata": {},
   "outputs": [],
   "source": [
    "prob = 0.95\n",
    "critical = chi2.ppf(prob, dof)\n",
    "if abs(stat) >= critical:\n",
    "    print('Отклоняем H0')\n",
    "else:\n",
    "    print('Не отклоняем H0')"
   ]
  },
  {
   "cell_type": "markdown",
   "metadata": {},
   "source": [
    "##### Проверим гипотезу о взаимосвязи метрики ARPPU между тестовой и контрольной группой. \n",
    "\n",
    "𝐻0 : ARPPU в группах равны\n",
    "\n",
    "𝐻1 : ARPPU в группах не равны\n",
    "\n",
    "Не имеет смысла проверять нормальность переменной ARPPU, так как у выборки большой объем. Проверить гипотезу можно с помощью t-критерием с поправкой Уэлча."
   ]
  },
  {
   "cell_type": "code",
   "execution_count": null,
   "metadata": {},
   "outputs": [],
   "source": [
    "st.ttest_ind(df_a[df_a[\"revenue\"] > 0][\"revenue\"], df_b[df_b[\"revenue\"] > 0][\"revenue\"], equal_var=False)"
   ]
  },
  {
   "cell_type": "code",
   "execution_count": null,
   "metadata": {},
   "outputs": [],
   "source": [
    "Так как p-value > 0.05, то ARPPU в группах равны."
   ]
  },
  {
   "cell_type": "markdown",
   "metadata": {},
   "source": [
    "# Выводы\n",
    "\n",
    "По результатам анализа ARPPU и ARPU в группах равны, то есть не оказывается значительного влияния на доход от приложения. При этом конверсия (статистически значимый показатель) у контрольной группы больше чем у тестовой. Можно сделать вывод, что набор акционных предложений в контрольной группе лучше чем в тестовой. "
   ]
  },
  {
   "cell_type": "markdown",
   "metadata": {},
   "source": [
    "# Задание 3"
   ]
  },
  {
   "cell_type": "markdown",
   "metadata": {},
   "source": [
    "В игре Plants & Gardens каждый месяц проводятся тематические события, ограниченные по времени. В них игроки могут получить уникальные предметы для сада и персонажей, дополнительные монеты или бонусы. Для получения награды требуется пройти ряд уровней за определенное время. С помощью каких метрик можно оценить результаты последнего прошедшего события?\n",
    "\n",
    "Предположим, в другом событии мы усложнили механику событий так, что при каждой неудачной попытке выполнения уровня игрок будет откатываться на несколько уровней назад. Изменится ли набор метрик оценки результата? Если да, то как?"
   ]
  },
  {
   "cell_type": "markdown",
   "metadata": {},
   "source": [
    "Для оценки результатов последнего прошедшего события можно рассмотреть  следующие метрики(так как в условиях не указано ничего о цене и платежах игроков во время события, финансовые метрики не берем в расчет):\n",
    "1. DAU (Daily Active Users) — количество уникальных игроков за сутки;\n",
    "2. Retention - какая доля игроков вернулась в продукт во время тематического события;\n",
    "3. Churn rate — сколько игроков перестало играть за время тематического события;\n",
    "4. CSAT (Customer Satisfaction Score)-  удовлетворенность игроков(можно провести опрос)."
   ]
  },
  {
   "cell_type": "markdown",
   "metadata": {},
   "source": [
    "При усложнении механики событий набор метрик для оценки результата не изменится. Но также можно провести A/B тест и сравнить все написанные выше метрики."
   ]
  },
  {
   "cell_type": "code",
   "execution_count": null,
   "metadata": {},
   "outputs": [],
   "source": []
  }
 ],
 "metadata": {
  "kernelspec": {
   "display_name": "Python 3",
   "language": "python",
   "name": "python3"
  },
  "language_info": {
   "codemirror_mode": {
    "name": "ipython",
    "version": 3
   },
   "file_extension": ".py",
   "mimetype": "text/x-python",
   "name": "python",
   "nbconvert_exporter": "python",
   "pygments_lexer": "ipython3",
   "version": "3.7.3"
  }
 },
 "nbformat": 4,
 "nbformat_minor": 4
}
